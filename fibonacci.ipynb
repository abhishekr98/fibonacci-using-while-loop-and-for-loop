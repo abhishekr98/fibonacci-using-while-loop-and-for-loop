{
 "cells": [
  {
   "cell_type": "code",
   "execution_count": 2,
   "id": "66cd003b",
   "metadata": {},
   "outputs": [
    {
     "name": "stdout",
     "output_type": "stream",
     "text": [
      "0 1 1 2 3 5 8 13 21 34 "
     ]
    }
   ],
   "source": [
    "x,y =0,1\n",
    "print(x, end = ' ')\n",
    "while y<50:\n",
    "    print(y,end = ' ')\n",
    "    x,y = y,x+y"
   ]
  },
  {
   "cell_type": "code",
   "execution_count": 3,
   "id": "18391b03",
   "metadata": {},
   "outputs": [
    {
     "name": "stdout",
     "output_type": "stream",
     "text": [
      "0 1 1 2 3 5 8 13 21 34 55 "
     ]
    }
   ],
   "source": [
    "x,y = 0,1\n",
    "print(x, end = ' ')\n",
    "for i in range(10):\n",
    "    if i<50:\n",
    "        print(y, end = ' ')\n",
    "        x,y = y,x+y"
   ]
  }
 ],
 "metadata": {
  "kernelspec": {
   "display_name": "Python 3",
   "language": "python",
   "name": "python3"
  },
  "language_info": {
   "codemirror_mode": {
    "name": "ipython",
    "version": 3
   },
   "file_extension": ".py",
   "mimetype": "text/x-python",
   "name": "python",
   "nbconvert_exporter": "python",
   "pygments_lexer": "ipython3",
   "version": "3.8.8"
  }
 },
 "nbformat": 4,
 "nbformat_minor": 5
}
